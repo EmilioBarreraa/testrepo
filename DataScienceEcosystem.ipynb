{
 "cells": [
  {
   "cell_type": "markdown",
   "id": "92654326-e994-43c1-99b5-f8df41da1efa",
   "metadata": {},
   "source": [
    "Create a markdown cell with the title Data Science Tools and Ecosystem using H1 style heading.\n",
    "# Data Science Tools and Ecosystem"
   ]
  },
  {
   "cell_type": "markdown",
   "id": "409a398c-8932-465a-a7bf-a4e9c2a49738",
   "metadata": {},
   "source": [
    "\n",
    "In this notebook, Data Science Tools and Ecosystem are summarized."
   ]
  },
  {
   "cell_type": "markdown",
   "id": "3cb04227-dee3-4ebd-8eba-1bf527219fe1",
   "metadata": {},
   "source": [
    "Some of the popular languages that Data Scientists use are:\n",
    "1. Python\n",
    "2. R\n",
    "3. SQL"
   ]
  },
  {
   "cell_type": "markdown",
   "id": "e794f23f-4ca3-4514-abea-6fa93f9873ce",
   "metadata": {},
   "source": [
    "Some of the commonly used libraries used by Data Scientists include:\n",
    "1. Pandas\n",
    "2. NumPy\n",
    "3. TensorFlow"
   ]
  },
  {
   "cell_type": "markdown",
   "id": "db30e455-1d1e-4d22-844b-27e38fa529d5",
   "metadata": {},
   "source": [
    "|Data Science Tools| \n",
    "--------------------\n",
    "| RStudio |\n",
    "| Apache Spark |\n",
    "| Apache Hadoop | \n",
    "\n"
   ]
  },
  {
   "cell_type": "markdown",
   "id": "c8a616a3-14ea-40f8-ab16-954c206e2c0b",
   "metadata": {},
   "source": [
    "### Below are a few examples of evaluating arithmetic expressions in Python"
   ]
  },
  {
   "cell_type": "code",
   "execution_count": 4,
   "id": "05ad93fb-9566-40e8-ba67-6af1ad761adf",
   "metadata": {},
   "outputs": [
    {
     "data": {
      "text/plain": [
       "17"
      ]
     },
     "execution_count": 4,
     "metadata": {},
     "output_type": "execute_result"
    }
   ],
   "source": [
    "#This a simple arithmetic expression to mutiply then add integers\n",
    "(3*4)+5"
   ]
  },
  {
   "cell_type": "code",
   "execution_count": 5,
   "id": "ff462efb-065b-4996-908a-b95a5699a567",
   "metadata": {},
   "outputs": [
    {
     "name": "stdout",
     "output_type": "stream",
     "text": [
      "3.3333333333333335\n"
     ]
    }
   ],
   "source": [
    "#This will convert 200 minutes to hours by diving by 60\n",
    "minutes = 200\n",
    "hours = minutes / 60\n",
    "print(hours)"
   ]
  },
  {
   "cell_type": "markdown",
   "id": "ccbe32de-557a-4aeb-a1ea-6a66362328da",
   "metadata": {},
   "source": [
    "**Objectives:** List popular languages for Data Science\n",
    "- SQL\n",
    "- Python\n",
    "- R"
   ]
  },
  {
   "cell_type": "markdown",
   "id": "1d090a22-eabc-44f9-989e-f924fc81c388",
   "metadata": {},
   "source": [
    "## Author\n",
    "Emilio Barrera"
   ]
  },
  {
   "cell_type": "code",
   "execution_count": null,
   "id": "f22ef617-a19a-4883-92f6-93b54d93d45a",
   "metadata": {},
   "outputs": [],
   "source": []
  }
 ],
 "metadata": {
  "kernelspec": {
   "display_name": "Python",
   "language": "python",
   "name": "conda-env-python-py"
  },
  "language_info": {
   "codemirror_mode": {
    "name": "ipython",
    "version": 3
   },
   "file_extension": ".py",
   "mimetype": "text/x-python",
   "name": "python",
   "nbconvert_exporter": "python",
   "pygments_lexer": "ipython3",
   "version": "3.7.12"
  }
 },
 "nbformat": 4,
 "nbformat_minor": 5
}
